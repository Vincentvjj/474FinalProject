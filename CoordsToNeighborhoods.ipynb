{
 "cells": [
  {
   "cell_type": "code",
   "execution_count": 33,
   "metadata": {
    "collapsed": false
   },
   "outputs": [
    {
     "name": "stdout",
     "output_type": "stream",
     "text": [
      "Found containing polygon: University District\n"
     ]
    }
   ],
   "source": [
    "import json\n",
    "from shapely.geometry import shape, Point\n",
    "# load GeoJSON file containing sectors\n",
    "#with ('GEOJSONNeighborhoods.json', 'r') as f:\n",
    "with open('GEOJSONNeighborhoods.json') as f:  \n",
    "    js = json.load(f)\n",
    "\n",
    "# construct point based on lat/long returned by geocoder\n",
    "#point = Point(47.655425, -122.306299)\n",
    "point = Point(-122.306299, 47.655425)\n",
    "\n",
    "# check each polygon to see if it contains the point\n",
    "for feature in js['features']: \n",
    "    polygon = shape(feature['geometry'])\n",
    "    if polygon.contains(point):\n",
    "        print 'Found containing polygon:', feature['properties']['S_HOOD']"
   ]
  },
  {
   "cell_type": "code",
   "execution_count": null,
   "metadata": {
    "collapsed": true
   },
   "outputs": [],
   "source": []
  }
 ],
 "metadata": {
  "kernelspec": {
   "display_name": "Python 2",
   "language": "python",
   "name": "python2"
  },
  "language_info": {
   "codemirror_mode": {
    "name": "ipython",
    "version": 2
   },
   "file_extension": ".py",
   "mimetype": "text/x-python",
   "name": "python",
   "nbconvert_exporter": "python",
   "pygments_lexer": "ipython2",
   "version": "2.7.11"
  }
 },
 "nbformat": 4,
 "nbformat_minor": 0
}
