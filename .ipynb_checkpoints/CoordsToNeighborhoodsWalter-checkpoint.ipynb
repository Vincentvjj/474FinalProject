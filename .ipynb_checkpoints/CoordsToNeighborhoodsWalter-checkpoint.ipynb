{
 "cells": [
  {
   "cell_type": "code",
   "execution_count": 1,
   "metadata": {
    "collapsed": false
   },
   "outputs": [
    {
     "ename": "ImportError",
     "evalue": "No module named shapely.geometry",
     "output_type": "error",
     "traceback": [
      "\u001b[1;31m---------------------------------------------------------------------------\u001b[0m",
      "\u001b[1;31mImportError\u001b[0m                               Traceback (most recent call last)",
      "\u001b[1;32m<ipython-input-1-ccc8bb60157b>\u001b[0m in \u001b[0;36m<module>\u001b[1;34m()\u001b[0m\n\u001b[0;32m      2\u001b[0m \u001b[1;32mimport\u001b[0m \u001b[0mcsv\u001b[0m\u001b[1;33m\u001b[0m\u001b[0m\n\u001b[0;32m      3\u001b[0m \u001b[1;32mimport\u001b[0m \u001b[0mcodecs\u001b[0m\u001b[1;33m\u001b[0m\u001b[0m\n\u001b[1;32m----> 4\u001b[1;33m \u001b[1;32mfrom\u001b[0m \u001b[0mshapely\u001b[0m\u001b[1;33m.\u001b[0m\u001b[0mgeometry\u001b[0m \u001b[1;32mimport\u001b[0m \u001b[0mshape\u001b[0m\u001b[1;33m,\u001b[0m \u001b[0mPoint\u001b[0m\u001b[1;33m\u001b[0m\u001b[0m\n\u001b[0m\u001b[0;32m      5\u001b[0m \u001b[1;31m# load GeoJSON file containing sectors\u001b[0m\u001b[1;33m\u001b[0m\u001b[1;33m\u001b[0m\u001b[0m\n\u001b[0;32m      6\u001b[0m \u001b[1;31m#with ('GEOJSONNeighborhoods.json', 'r') as f:\u001b[0m\u001b[1;33m\u001b[0m\u001b[1;33m\u001b[0m\u001b[0m\n",
      "\u001b[1;31mImportError\u001b[0m: No module named shapely.geometry"
     ]
    }
   ],
   "source": [
    "import json\n",
    "import csv\n",
    "import codecs\n",
    "from shapely.geometry import shape, Point\n",
    "# load GeoJSON file containing sectors\n",
    "#with ('GEOJSONNeighborhoods.json', 'r') as f:\n",
    "with open('GEOJSONNeighborhoods.json') as f:  \n",
    "    js = json.load(f)\n",
    "    \n",
    "csvReader = csv.reader(codecs.open('data/Seattle_Cultural_Space_Inventory-2.txt', 'rU', 'utf-16'), delimiter=';')\n",
    "for row in csvReader:\n",
    "        print row[0].split(\"\t\")[0]\n",
    "#with open('data/Seattle_Cultural_Space_Inventory-1.txt', 'rU', 'utf-16') as csvfile:\n",
    "#    sreader = csv.reader(csvfile, delimiter=';', quotechar='|')\n",
    "#    for row in sreader:\n",
    "#        print row\n",
    "\n",
    "# construct point based on lat/long returned by geocoder\n",
    "#point = Point(47.655425, -122.306299)\n",
    "#point = Point(-122.306299, 47.655425)\n",
    "\n"
   ]
  },
  {
   "cell_type": "code",
   "execution_count": null,
   "metadata": {
    "collapsed": true
   },
   "outputs": [],
   "source": []
  },
  {
   "cell_type": "code",
   "execution_count": null,
   "metadata": {
    "collapsed": true
   },
   "outputs": [],
   "source": [
    "# check each polygon to see if it contains the point\n",
    "for feature in js['features']: \n",
    "    polygon = shape(feature['geometry'])\n",
    "    if polygon.contains(point):\n",
    "        print 'Found containing polygon:', feature['properties']['S_HOOD']"
   ]
  }
 ],
 "metadata": {
  "kernelspec": {
   "display_name": "Python 2",
   "language": "python",
   "name": "python2"
  },
  "language_info": {
   "codemirror_mode": {
    "name": "ipython",
    "version": 2
   },
   "file_extension": ".py",
   "mimetype": "text/x-python",
   "name": "python",
   "nbconvert_exporter": "python",
   "pygments_lexer": "ipython2",
   "version": "2.7.10"
  }
 },
 "nbformat": 4,
 "nbformat_minor": 0
}
